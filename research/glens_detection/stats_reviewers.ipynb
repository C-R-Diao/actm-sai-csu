{
 "cells": [
  {
   "cell_type": "code",
   "execution_count": 1,
   "id": "5dc88dab-a98c-4c74-9999-3668c4f84cf1",
   "metadata": {},
   "outputs": [],
   "source": [
    "import numpy as np\n",
    "rng = np.random.default_rng(98)"
   ]
  },
  {
   "cell_type": "markdown",
   "id": "56841164-807a-4639-a6ad-e37c1c0536eb",
   "metadata": {},
   "source": [
    "### Prior to 2030 (4 members each)"
   ]
  },
  {
   "cell_type": "code",
   "execution_count": 8,
   "id": "9ea31c06-e821-4ab4-a9c6-394c89ecd13a",
   "metadata": {},
   "outputs": [
    {
     "name": "stdout",
     "output_type": "stream",
     "text": [
      "0.004\n"
     ]
    }
   ],
   "source": [
    "N = 8\n",
    "truth = np.array([0,0,0,0,1,1,1,1])\n",
    "n_iterations = 1_000_000\n",
    "correct = 0\n",
    "\n",
    "for i in np.arange(0,n_iterations):\n",
    "    prediction = rng.uniform(low=0.,high=1., size=N)\n",
    "    prediction_binary = np.where(prediction<.5,0,1)\n",
    "\n",
    "    error = np.abs((truth-prediction_binary))\n",
    "\n",
    "    if np.sum(error)==0:\n",
    "        correct = correct + 1\n",
    "\n",
    "accuracy = correct / n_iterations        \n",
    "print( np.round(accuracy,3) )   "
   ]
  },
  {
   "cell_type": "markdown",
   "id": "6554147f-fb85-437e-94db-2ce8b7d2226c",
   "metadata": {},
   "source": [
    "### Post 2030 (4 members for SAI, 1 for RCP)"
   ]
  },
  {
   "cell_type": "code",
   "execution_count": 18,
   "id": "9f698cdb-4666-45e3-9184-3f1704dc0f93",
   "metadata": {},
   "outputs": [
    {
     "name": "stdout",
     "output_type": "stream",
     "text": [
      "0.082\n"
     ]
    }
   ],
   "source": [
    "N = 5\n",
    "truth = np.array([0, 1, 1, 1, 1])\n",
    "n_iterations = 1_000_000\n",
    "correct = 0\n",
    "\n",
    "for i in np.arange(0,n_iterations):\n",
    "    prediction = rng.uniform(low=0.,high=1., size=N)\n",
    "    prediction_binary = np.where(prediction<.2,0,1)\n",
    "\n",
    "    error = np.abs((truth-prediction_binary))\n",
    "    # print(truth)\n",
    "    # print(prediction_binary)\n",
    "    # print(error)\n",
    "    # print('----')\n",
    "    \n",
    "    if np.sum(error)==0:\n",
    "        correct = correct + 1\n",
    "\n",
    "accuracy = correct / n_iterations        \n",
    "print( np.round(accuracy,3) )   "
   ]
  },
  {
   "cell_type": "markdown",
   "id": "647e44ef-e29a-4835-a220-83c7de95cf30",
   "metadata": {},
   "source": [
    "The resulting probability of getting all five predictions correct is 40.96%. This is the same as a binomial"
   ]
  },
  {
   "cell_type": "code",
   "execution_count": 12,
   "id": "f11ee2e4-3d7c-4813-8ede-bf3cdc1f1846",
   "metadata": {},
   "outputs": [
    {
     "data": {
      "text/plain": [
       "0.0064"
      ]
     },
     "execution_count": 12,
     "metadata": {},
     "output_type": "execute_result"
    }
   ],
   "source": [
    ".08**4"
   ]
  },
  {
   "cell_type": "code",
   "execution_count": 13,
   "id": "6db6810f-e50f-4146-974c-e4523792055f",
   "metadata": {},
   "outputs": [
    {
     "data": {
      "text/plain": [
       "2.5600000000000005e-10"
      ]
     },
     "execution_count": 13,
     "metadata": {},
     "output_type": "execute_result"
    }
   ],
   "source": [
    ".004**4"
   ]
  },
  {
   "cell_type": "code",
   "execution_count": null,
   "id": "47ca8d95-26d1-4826-8529-8ba867ab1594",
   "metadata": {},
   "outputs": [],
   "source": []
  }
 ],
 "metadata": {
  "kernelspec": {
   "display_name": "Python 3 (ipykernel)",
   "language": "python",
   "name": "python3"
  },
  "language_info": {
   "codemirror_mode": {
    "name": "ipython",
    "version": 3
   },
   "file_extension": ".py",
   "mimetype": "text/x-python",
   "name": "python",
   "nbconvert_exporter": "python",
   "pygments_lexer": "ipython3",
   "version": "3.9.13"
  }
 },
 "nbformat": 4,
 "nbformat_minor": 5
}
