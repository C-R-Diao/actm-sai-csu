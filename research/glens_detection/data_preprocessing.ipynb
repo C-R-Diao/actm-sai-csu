{
 "cells": [
  {
   "cell_type": "markdown",
   "id": "circular-documentation",
   "metadata": {},
   "source": [
    "# Get the data together"
   ]
  },
  {
   "cell_type": "code",
   "execution_count": 1,
   "id": "sealed-surprise",
   "metadata": {},
   "outputs": [],
   "source": [
    "import numpy as np\n",
    "import numpy.ma as ma\n",
    "import pandas as pd\n",
    "import random\n",
    "import xarray as xr\n",
    "import scipy.stats as stats\n",
    "import random\n",
    "\n",
    "import time\n",
    "import os.path\n",
    "from os import path\n",
    "import subprocess\n",
    "import copy as copy\n",
    "\n",
    "# https://www.pyimagesearch.com/2019/10/21/keras-vs-tf-keras-whats-the-difference-in-tensorflow-2-0/\n",
    "import sklearn\n",
    "from sklearn import metrics\n",
    "import tensorflow as tf\n",
    "from tensorflow.keras.layers import Dense, Activation\n",
    "from tensorflow.keras import regularizers\n",
    "from tensorflow.keras import metrics\n",
    "from tensorflow.keras import optimizers\n",
    "from tensorflow.keras.models import Sequential\n",
    "# import innvestigate\n",
    "\n",
    "import matplotlib as mpl\n",
    "import matplotlib.pyplot as plt\n",
    "import cartopy as ct\n",
    "import cartopy.crs as ccrs\n",
    "import cmocean as cmocean\n",
    "from mpl_toolkits.axes_grid1 import make_axes_locatable\n",
    "\n",
    "from scipy.ndimage.filters import gaussian_filter\n",
    "\n",
    "# Plotting\n",
    "mpl.rcParams['figure.dpi']= 150\n",
    "dpiFig = 300.\n",
    "CL = 0.\n",
    "mapProj = ct.crs.EqualEarth(central_longitude = CL)"
   ]
  },
  {
   "cell_type": "code",
   "execution_count": null,
   "id": "intended-sculpture",
   "metadata": {},
   "outputs": [],
   "source": [
    "fileDir = '/Users/eabarnes/Data/2020/GLENS/'"
   ]
  },
  {
   "cell_type": "markdown",
   "id": "mediterranean-sandwich",
   "metadata": {},
   "source": [
    "Delete the extra files with the following commmand\n",
    "\n",
    "```>> rm *.swap.nc```"
   ]
  },
  {
   "cell_type": "markdown",
   "id": "signal-rhythm",
   "metadata": {},
   "source": [
    "# EXTREMES"
   ]
  },
  {
   "cell_type": "code",
   "execution_count": 9,
   "id": "curious-dodge",
   "metadata": {},
   "outputs": [],
   "source": [
    "#===============================\n",
    "# CONTROL EXTREMES - TREFHTMX\n",
    "#===============================\n",
    "filename = fileDir + 'b.e15.B5505C5WCCML45BGCR.f09_g16.control.extreme.cam.h3.TREFHTMX.20100101-20971231'\n",
    "filename_swap = filename + '.swap.nc'\n",
    "runText = 'ncpdq --rdr=time,ensemble,lat,lon ' + filename + '.nc' + ' ' + filename_swap \n",
    "process = subprocess.Popen(runText.split(), stdout=subprocess.PIPE)\n",
    "output, error = process.communicate()\n",
    "\n",
    "\n",
    "filename_remap = filename_swap[:-2] + 'r90x45' + '.nc'\n",
    "runText = 'cdo remapcon,r90x45 ' + filename_swap + ' ' + filename_remap \n",
    "process = subprocess.Popen(runText.split(), stdout=subprocess.PIPE)\n",
    "output, error = process.communicate()\n",
    "\n",
    "# need to process the extra members too\n",
    "filename_swap = fileDir + 'b.e15.B5505C5WCCML45BGCR.f09_g16.control.extreme.cam.h3.TREFHTMX.20210101-20301231.swap.nc'\n",
    "filename_remap = filename_swap[:-2] + 'r90x45' + '.nc'\n",
    "runText = 'cdo remapcon,r90x45 ' + filename_swap + ' ' + filename_remap \n",
    "process = subprocess.Popen(runText.split(), stdout=subprocess.PIPE)\n",
    "output, error = process.communicate()"
   ]
  },
  {
   "cell_type": "code",
   "execution_count": 11,
   "id": "offensive-bahrain",
   "metadata": {},
   "outputs": [],
   "source": [
    "#===============================\n",
    "# FEEDBACK EXTREMES - TREFHTMX\n",
    "#===============================\n",
    "for decade in np.arange(2020,2100,10):\n",
    "    filename = (fileDir \n",
    "                + 'b.e15.B5505C5WCCML45BGCR.f09_g16.feedback.extreme.cam.h3.TREFHTMX.' \n",
    "                + str(decade) \n",
    "                + '0101-'\n",
    "                + str(decade+9)\n",
    "                + '1231')\n",
    "    \n",
    "    filename_swap = filename + '.swap.nc'\n",
    "    runText = 'ncpdq --rdr=time,ensemble,lat,lon ' + filename + '.nc' + ' ' + filename_swap \n",
    "    process = subprocess.Popen(runText.split(), stdout=subprocess.PIPE)\n",
    "    output, error = process.communicate()\n",
    "\n",
    "\n",
    "    filename_remap = filename_swap[:-2] + 'r90x45' + '.nc'\n",
    "    runText = 'cdo remapcon,r90x45 ' + filename_swap + ' ' + filename_remap \n",
    "    process = subprocess.Popen(runText.split(), stdout=subprocess.PIPE)\n",
    "    output, error = process.communicate()"
   ]
  },
  {
   "cell_type": "code",
   "execution_count": 10,
   "id": "moderate-display",
   "metadata": {},
   "outputs": [],
   "source": [
    "#===============================\n",
    "# CONTROL EXTREMES - PRECT\n",
    "#===============================\n",
    "filename = fileDir + 'b.e15.B5505C5WCCML45BGCR.f09_g16.control.extreme.cam.h3.PRECT.20100101-20971231'\n",
    "filename_swap = filename + '.swap.nc'\n",
    "runText = 'ncpdq --rdr=time,ensemble,lat,lon ' + filename + '.nc' + ' ' + filename_swap \n",
    "process = subprocess.Popen(runText.split(), stdout=subprocess.PIPE)\n",
    "output, error = process.communicate()\n",
    "\n",
    "\n",
    "filename_remap = filename_swap[:-2] + 'r90x45' + '.nc'\n",
    "runText = 'cdo remapcon,r90x45 ' + filename_swap + ' ' + filename_remap \n",
    "process = subprocess.Popen(runText.split(), stdout=subprocess.PIPE)\n",
    "output, error = process.communicate()\n",
    "\n",
    "# need to process the extra members too\n",
    "filename_swap = fileDir + 'b.e15.B5505C5WCCML45BGCR.f09_g16.control.extreme.cam.h3.PRECT.20210101-20301231.swap.nc'\n",
    "filename_remap = filename_swap[:-2] + 'r90x45' + '.nc'\n",
    "runText = 'cdo remapcon,r90x45 ' + filename_swap + ' ' + filename_remap \n",
    "process = subprocess.Popen(runText.split(), stdout=subprocess.PIPE)\n",
    "output, error = process.communicate()\n"
   ]
  },
  {
   "cell_type": "code",
   "execution_count": 12,
   "id": "liberal-senior",
   "metadata": {},
   "outputs": [],
   "source": [
    "#===============================\n",
    "# FEEDBACK EXTREMES - PRECT\n",
    "#===============================\n",
    "for decade in np.arange(2020,2100,10):\n",
    "    filename = (fileDir \n",
    "                + 'b.e15.B5505C5WCCML45BGCR.f09_g16.feedback.extreme.cam.h3.PRECT.' \n",
    "                + str(decade) \n",
    "                + '0101-'\n",
    "                + str(decade+9)\n",
    "                + '1231')\n",
    "    \n",
    "    filename_swap = filename + '.swap.nc'\n",
    "    runText = 'ncpdq --rdr=time,ensemble,lat,lon ' + filename + '.nc' + ' ' + filename_swap \n",
    "    process = subprocess.Popen(runText.split(), stdout=subprocess.PIPE)\n",
    "    output, error = process.communicate()\n",
    "\n",
    "    filename_remap = filename_swap[:-2] + 'r90x45' + '.nc'\n",
    "    runText = 'cdo remapcon,r90x45 ' + filename_swap + ' ' + filename_remap \n",
    "    process = subprocess.Popen(runText.split(), stdout=subprocess.PIPE)\n",
    "    output, error = process.communicate()\n",
    "    \n"
   ]
  },
  {
   "cell_type": "markdown",
   "id": "minute-bundle",
   "metadata": {},
   "source": [
    "# Mergetime commands\n",
    "\n",
    "* cdo mergetime b.e15.B5505C5WCCML45BGCR.f09_g16.feedback.extreme.cam.h3.TREFHTMX.*.swap.r90x45.nc b.e15.B5505C5WCCML45BGCR.f09_g16.feedback.extreme.cam.h3.TREFHTMX.20200101-20991231.swap.r90x45.nc\n",
    "\n",
    "* cdo mergetime b.e15.B5505C5WCCML45BGCR.f09_g16.feedback.extreme.cam.h3.PRECT.*.swap.r90x45.nc b.e15.B5505C5WCCML45BGCR.f09_g16.feedback.extreme.cam.h3.PRECT.20200101-20991231.swap.r90x45.nc\n"
   ]
  },
  {
   "cell_type": "markdown",
   "id": "extended-touch",
   "metadata": {},
   "source": [
    "# TEMPERATURE"
   ]
  },
  {
   "cell_type": "code",
   "execution_count": null,
   "id": "portable-switch",
   "metadata": {},
   "outputs": [],
   "source": []
  }
 ],
 "metadata": {
  "kernelspec": {
   "display_name": "Python 3",
   "language": "python",
   "name": "python3"
  },
  "language_info": {
   "codemirror_mode": {
    "name": "ipython",
    "version": 3
   },
   "file_extension": ".py",
   "mimetype": "text/x-python",
   "name": "python",
   "nbconvert_exporter": "python",
   "pygments_lexer": "ipython3",
   "version": "3.7.9"
  }
 },
 "nbformat": 4,
 "nbformat_minor": 5
}
